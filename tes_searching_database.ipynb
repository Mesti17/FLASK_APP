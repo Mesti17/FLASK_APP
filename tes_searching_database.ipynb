{
 "cells": [
  {
   "cell_type": "code",
   "execution_count": 7,
   "metadata": {},
   "outputs": [],
   "source": [
    "import mysql.connector\n",
    "from sqlalchemy import create_engine\n",
    "from sqlalchemy.orm import sessionmaker\n",
    "from sqlalchemy.ext.declarative import declarative_base\n",
    "from sqlalchemy import create_engine, Column, String, Table, MetaData\n",
    "import pymysql"
   ]
  },
  {
   "cell_type": "code",
   "execution_count": 9,
   "metadata": {},
   "outputs": [
    {
     "ename": "TypeError",
     "evalue": "Additional arguments should be named <dialectname>_<argument>, got 'autoload'",
     "output_type": "error",
     "traceback": [
      "\u001b[1;31m---------------------------------------------------------------------------\u001b[0m",
      "\u001b[1;31mTypeError\u001b[0m                                 Traceback (most recent call last)",
      "Cell \u001b[1;32mIn[9], line 12\u001b[0m\n\u001b[0;32m      9\u001b[0m specific_word \u001b[39m=\u001b[39m \u001b[39m'\u001b[39m\u001b[39mAnies\u001b[39m\u001b[39m'\u001b[39m  \u001b[39m# Replace with the specific word you want to search\u001b[39;00m\n\u001b[0;32m     11\u001b[0m metadata \u001b[39m=\u001b[39m MetaData()\n\u001b[1;32m---> 12\u001b[0m table \u001b[39m=\u001b[39m Table(\n\u001b[0;32m     13\u001b[0m     table_name,\n\u001b[0;32m     14\u001b[0m     metadata,\n\u001b[0;32m     15\u001b[0m     autoload\u001b[39m=\u001b[39;49m\u001b[39mTrue\u001b[39;49;00m,\n\u001b[0;32m     16\u001b[0m     autoload_with\u001b[39m=\u001b[39;49mengine\n\u001b[0;32m     17\u001b[0m )\n\u001b[0;32m     18\u001b[0m \u001b[39m# conn2 = pymysql.connect(host='localhost', port=int(3306), user='root', password='', db='capres')\u001b[39;00m\n\u001b[0;32m     20\u001b[0m query \u001b[39m=\u001b[39m table\u001b[39m.\u001b[39mselect()\u001b[39m.\u001b[39mwhere(table\u001b[39m.\u001b[39mc\u001b[39m.\u001b[39mcleaning\u001b[39m.\u001b[39mlike(\u001b[39mf\u001b[39m\u001b[39m'\u001b[39m\u001b[39m%\u001b[39m\u001b[39m{\u001b[39;00mspecific_word\u001b[39m}\u001b[39;00m\u001b[39m%\u001b[39m\u001b[39m'\u001b[39m))\u001b[39m.\u001b[39mlimit(\u001b[39m100\u001b[39m)\n",
      "File \u001b[1;32m<string>:2\u001b[0m, in \u001b[0;36m__new__\u001b[1;34m(cls, *args, **kw)\u001b[0m\n",
      "File \u001b[1;32mf:\\FLASK_APP\\venv\\lib\\site-packages\\sqlalchemy\\util\\deprecations.py:281\u001b[0m, in \u001b[0;36mdeprecated_params.<locals>.decorate.<locals>.warned\u001b[1;34m(fn, *args, **kwargs)\u001b[0m\n\u001b[0;32m    274\u001b[0m     \u001b[39mif\u001b[39;00m m \u001b[39min\u001b[39;00m kwargs:\n\u001b[0;32m    275\u001b[0m         _warn_with_version(\n\u001b[0;32m    276\u001b[0m             messages[m],\n\u001b[0;32m    277\u001b[0m             versions[m],\n\u001b[0;32m    278\u001b[0m             version_warnings[m],\n\u001b[0;32m    279\u001b[0m             stacklevel\u001b[39m=\u001b[39m\u001b[39m3\u001b[39m,\n\u001b[0;32m    280\u001b[0m         )\n\u001b[1;32m--> 281\u001b[0m \u001b[39mreturn\u001b[39;00m fn(\u001b[39m*\u001b[39margs, \u001b[39m*\u001b[39m\u001b[39m*\u001b[39mkwargs)\n",
      "File \u001b[1;32mf:\\FLASK_APP\\venv\\lib\\site-packages\\sqlalchemy\\sql\\schema.py:434\u001b[0m, in \u001b[0;36mTable.__new__\u001b[1;34m(cls, *args, **kw)\u001b[0m\n\u001b[0;32m    427\u001b[0m \u001b[39m@util\u001b[39m\u001b[39m.\u001b[39mdeprecated_params(\n\u001b[0;32m    428\u001b[0m     mustexist\u001b[39m=\u001b[39m(\n\u001b[0;32m    429\u001b[0m         \u001b[39m\"\u001b[39m\u001b[39m1.4\u001b[39m\u001b[39m\"\u001b[39m,\n\u001b[1;32m   (...)\u001b[0m\n\u001b[0;32m    432\u001b[0m )\n\u001b[0;32m    433\u001b[0m \u001b[39mdef\u001b[39;00m \u001b[39m__new__\u001b[39m(\u001b[39mcls\u001b[39m, \u001b[39m*\u001b[39margs: Any, \u001b[39m*\u001b[39m\u001b[39m*\u001b[39mkw: Any) \u001b[39m-\u001b[39m\u001b[39m>\u001b[39m Any:\n\u001b[1;32m--> 434\u001b[0m     \u001b[39mreturn\u001b[39;00m \u001b[39mcls\u001b[39m\u001b[39m.\u001b[39m_new(\u001b[39m*\u001b[39margs, \u001b[39m*\u001b[39m\u001b[39m*\u001b[39mkw)\n",
      "File \u001b[1;32mf:\\FLASK_APP\\venv\\lib\\site-packages\\sqlalchemy\\sql\\schema.py:489\u001b[0m, in \u001b[0;36mTable._new\u001b[1;34m(cls, *args, **kw)\u001b[0m\n\u001b[0;32m    487\u001b[0m \u001b[39mexcept\u001b[39;00m \u001b[39mException\u001b[39;00m:\n\u001b[0;32m    488\u001b[0m     \u001b[39mwith\u001b[39;00m util\u001b[39m.\u001b[39msafe_reraise():\n\u001b[1;32m--> 489\u001b[0m         metadata\u001b[39m.\u001b[39m_remove_table(name, schema)\n",
      "File \u001b[1;32mf:\\FLASK_APP\\venv\\lib\\site-packages\\sqlalchemy\\util\\langhelpers.py:147\u001b[0m, in \u001b[0;36msafe_reraise.__exit__\u001b[1;34m(self, type_, value, traceback)\u001b[0m\n\u001b[0;32m    145\u001b[0m     \u001b[39massert\u001b[39;00m exc_value \u001b[39mis\u001b[39;00m \u001b[39mnot\u001b[39;00m \u001b[39mNone\u001b[39;00m\n\u001b[0;32m    146\u001b[0m     \u001b[39mself\u001b[39m\u001b[39m.\u001b[39m_exc_info \u001b[39m=\u001b[39m \u001b[39mNone\u001b[39;00m  \u001b[39m# remove potential circular references\u001b[39;00m\n\u001b[1;32m--> 147\u001b[0m     \u001b[39mraise\u001b[39;00m exc_value\u001b[39m.\u001b[39mwith_traceback(exc_tb)\n\u001b[0;32m    148\u001b[0m \u001b[39melse\u001b[39;00m:\n\u001b[0;32m    149\u001b[0m     \u001b[39mself\u001b[39m\u001b[39m.\u001b[39m_exc_info \u001b[39m=\u001b[39m \u001b[39mNone\u001b[39;00m  \u001b[39m# remove potential circular references\u001b[39;00m\n",
      "File \u001b[1;32mf:\\FLASK_APP\\venv\\lib\\site-packages\\sqlalchemy\\sql\\schema.py:484\u001b[0m, in \u001b[0;36mTable._new\u001b[1;34m(cls, *args, **kw)\u001b[0m\n\u001b[0;32m    482\u001b[0m metadata\u001b[39m.\u001b[39m_add_table(name, schema, table)\n\u001b[0;32m    483\u001b[0m \u001b[39mtry\u001b[39;00m:\n\u001b[1;32m--> 484\u001b[0m     table\u001b[39m.\u001b[39m\u001b[39m__init__\u001b[39m(name, metadata, \u001b[39m*\u001b[39margs, _no_init\u001b[39m=\u001b[39m\u001b[39mFalse\u001b[39;00m, \u001b[39m*\u001b[39m\u001b[39m*\u001b[39mkw)\n\u001b[0;32m    485\u001b[0m     table\u001b[39m.\u001b[39mdispatch\u001b[39m.\u001b[39mafter_parent_attach(table, metadata)\n\u001b[0;32m    486\u001b[0m     \u001b[39mreturn\u001b[39;00m table\n",
      "File \u001b[1;32mf:\\FLASK_APP\\venv\\lib\\site-packages\\sqlalchemy\\sql\\schema.py:858\u001b[0m, in \u001b[0;36mTable.__init__\u001b[1;34m(self, name, metadata, schema, quote, quote_schema, autoload_with, autoload_replace, keep_existing, extend_existing, resolve_fks, include_columns, implicit_returning, comment, info, listeners, prefixes, _extend_on, _no_init, *args, **kw)\u001b[0m\n\u001b[0;32m    854\u001b[0m         event\u001b[39m.\u001b[39mlisten(\u001b[39mself\u001b[39m, evt, fn)\n\u001b[0;32m    856\u001b[0m \u001b[39mself\u001b[39m\u001b[39m.\u001b[39m_prefixes \u001b[39m=\u001b[39m prefixes \u001b[39mif\u001b[39;00m prefixes \u001b[39melse\u001b[39;00m []\n\u001b[1;32m--> 858\u001b[0m \u001b[39mself\u001b[39m\u001b[39m.\u001b[39m_extra_kwargs(\u001b[39m*\u001b[39m\u001b[39m*\u001b[39mkw)\n\u001b[0;32m    860\u001b[0m \u001b[39m# load column definitions from the database if 'autoload' is defined\u001b[39;00m\n\u001b[0;32m    861\u001b[0m \u001b[39m# we do it after the table is in the singleton dictionary to support\u001b[39;00m\n\u001b[0;32m    862\u001b[0m \u001b[39m# circular foreign keys\u001b[39;00m\n\u001b[0;32m    863\u001b[0m \u001b[39mif\u001b[39;00m autoload_with \u001b[39mis\u001b[39;00m \u001b[39mnot\u001b[39;00m \u001b[39mNone\u001b[39;00m:\n",
      "File \u001b[1;32mf:\\FLASK_APP\\venv\\lib\\site-packages\\sqlalchemy\\sql\\schema.py:1006\u001b[0m, in \u001b[0;36mTable._extra_kwargs\u001b[1;34m(self, **kwargs)\u001b[0m\n\u001b[0;32m   1005\u001b[0m \u001b[39mdef\u001b[39;00m \u001b[39m_extra_kwargs\u001b[39m(\u001b[39mself\u001b[39m, \u001b[39m*\u001b[39m\u001b[39m*\u001b[39mkwargs: Any) \u001b[39m-\u001b[39m\u001b[39m>\u001b[39m \u001b[39mNone\u001b[39;00m:\n\u001b[1;32m-> 1006\u001b[0m     \u001b[39mself\u001b[39;49m\u001b[39m.\u001b[39;49m_validate_dialect_kwargs(kwargs)\n",
      "File \u001b[1;32mf:\\FLASK_APP\\venv\\lib\\site-packages\\sqlalchemy\\sql\\base.py:590\u001b[0m, in \u001b[0;36mDialectKWArgs._validate_dialect_kwargs\u001b[1;34m(self, kwargs)\u001b[0m\n\u001b[0;32m    588\u001b[0m m \u001b[39m=\u001b[39m re\u001b[39m.\u001b[39mmatch(\u001b[39m\"\u001b[39m\u001b[39m^(.+?)_(.+)$\u001b[39m\u001b[39m\"\u001b[39m, k)\n\u001b[0;32m    589\u001b[0m \u001b[39mif\u001b[39;00m \u001b[39mnot\u001b[39;00m m:\n\u001b[1;32m--> 590\u001b[0m     \u001b[39mraise\u001b[39;00m \u001b[39mTypeError\u001b[39;00m(\n\u001b[0;32m    591\u001b[0m         \u001b[39m\"\u001b[39m\u001b[39mAdditional arguments should be \u001b[39m\u001b[39m\"\u001b[39m\n\u001b[0;32m    592\u001b[0m         \u001b[39m\"\u001b[39m\u001b[39mnamed <dialectname>_<argument>, got \u001b[39m\u001b[39m'\u001b[39m\u001b[39m%s\u001b[39;00m\u001b[39m'\u001b[39m\u001b[39m\"\u001b[39m \u001b[39m%\u001b[39m k\n\u001b[0;32m    593\u001b[0m     )\n\u001b[0;32m    594\u001b[0m dialect_name, arg_name \u001b[39m=\u001b[39m m\u001b[39m.\u001b[39mgroup(\u001b[39m1\u001b[39m, \u001b[39m2\u001b[39m)\n\u001b[0;32m    596\u001b[0m \u001b[39mtry\u001b[39;00m:\n",
      "\u001b[1;31mTypeError\u001b[0m: Additional arguments should be named <dialectname>_<argument>, got 'autoload'"
     ]
    }
   ],
   "source": [
    "engine = create_engine('mysql+pymysql://root:@localhost:3306/capres')\n",
    "conn1 = engine.connect()\n",
    "Session = sessionmaker(bind=engine)\n",
    "session = Session()\n",
    "\n",
    "# #Using pymysql\n",
    "\n",
    "table_name = 'hasil_preprocessing'  # Replace with the actual table name\n",
    "specific_word = 'Anies'  # Replace with the specific word you want to search\n",
    "\n",
    "metadata = MetaData()\n",
    "metadata.reflect(bind=engine)\n",
    "table = metadata.tables[table_name]\n",
    "\n",
    "# conn2 = pymysql.connect(host='localhost', port=int(3306), user='root', password='', db='capres')\n",
    "\n",
    "query = table.select().where(table.c.cleaning.like(f'%{specific_word}%')).limit(100)\n",
    "results = session.execute(query)\n",
    "\n",
    "\n",
    "for result in results:\n",
    "    print(result.username, result.cleaning)"
   ]
  }
 ],
 "metadata": {
  "kernelspec": {
   "display_name": "venv",
   "language": "python",
   "name": "python3"
  },
  "language_info": {
   "codemirror_mode": {
    "name": "ipython",
    "version": 3
   },
   "file_extension": ".py",
   "mimetype": "text/x-python",
   "name": "python",
   "nbconvert_exporter": "python",
   "pygments_lexer": "ipython3",
   "version": "3.9.13"
  },
  "orig_nbformat": 4
 },
 "nbformat": 4,
 "nbformat_minor": 2
}
