{
 "cells": [
  {
   "cell_type": "code",
   "execution_count": 1,
   "metadata": {},
   "outputs": [],
   "source": [
    "from sqlalchemy import create_engine\n",
    "from sqlalchemy.orm import sessionmaker\n",
    "from sqlalchemy.ext.declarative import declarative_base\n",
    "from sqlalchemy import create_engine, Column, String, Table, MetaData"
   ]
  },
  {
   "cell_type": "code",
   "execution_count": 13,
   "metadata": {},
   "outputs": [
    {
     "name": "stderr",
     "output_type": "stream",
     "text": [
      "f:\\FLASK_APP\\venv\\lib\\site-packages\\sklearn\\base.py:347: InconsistentVersionWarning: Trying to unpickle estimator MultinomialNB from version 1.2.2 when using version 1.3.0. This might lead to breaking code or invalid results. Use at your own risk. For more info please refer to:\n",
      "https://scikit-learn.org/stable/model_persistence.html#security-maintainability-limitations\n",
      "  warnings.warn(\n",
      "f:\\FLASK_APP\\venv\\lib\\site-packages\\sklearn\\base.py:347: InconsistentVersionWarning: Trying to unpickle estimator TfidfTransformer from version 1.2.2 when using version 1.3.0. This might lead to breaking code or invalid results. Use at your own risk. For more info please refer to:\n",
      "https://scikit-learn.org/stable/model_persistence.html#security-maintainability-limitations\n",
      "  warnings.warn(\n",
      "f:\\FLASK_APP\\venv\\lib\\site-packages\\sklearn\\base.py:347: InconsistentVersionWarning: Trying to unpickle estimator TfidfVectorizer from version 1.2.2 when using version 1.3.0. This might lead to breaking code or invalid results. Use at your own risk. For more info please refer to:\n",
      "https://scikit-learn.org/stable/model_persistence.html#security-maintainability-limitations\n",
      "  warnings.warn(\n"
     ]
    }
   ],
   "source": [
    "import pickle\n",
    "import numpy as np\n",
    "from sklearn.feature_extraction.text import TfidfVectorizer\n",
    "\n",
    "all_data = []\n",
    "total_sentimen=dict()\n",
    "total_pos = 0\n",
    "total_net = 0\n",
    "total_neg = 0\n",
    "\n",
    "model_path = 'model/model_nb.pickle'\n",
    "modelNB = pickle.load(open(model_path, \"rb\"))\n",
    "\n",
    "#Load Vectorizer\n",
    "vectorizer = TfidfVectorizer()\n",
    "with open('model/vec.pickle', 'rb') as handle:\n",
    "    vectorizer = pickle.load(handle)\n",
    "\n",
    "engine = create_engine('mysql+pymysql://root:@localhost:3306/capres')\n",
    "conn1 = engine.connect()\n",
    "Session = sessionmaker(bind=engine)\n",
    "session = Session()\n",
    "\n",
    "# #Using pymysql\n",
    "\n",
    "table_name = 'hasil_preprocessing'  # Replace with the actual table name\n",
    "specific_word = 'Anies'  # Replace with the specific word you want to search\n",
    "\n",
    "metadata = MetaData()\n",
    "metadata.reflect(bind=engine)\n",
    "table = metadata.tables[table_name]\n",
    "\n",
    "# conn2 = pymysql.connect(host='localhost', port=int(3306), user='root', password='', db='capres')\n",
    "\n",
    "query = table.select().where(table.c.cleaning.like(f'%{specific_word}%')).limit(100)\n",
    "results = session.execute(query)\n",
    "\n",
    "\n",
    "for result in results:\n",
    "    \n",
    "    vec = vectorizer.transform([result.cleaning])\n",
    "    prediksi = modelNB.predict(vec)\n",
    "    \n",
    "    if prediksi == 1:\n",
    "            hasil_pred = 'POSITIF'\n",
    "            total_pos += 1\n",
    "    elif prediksi == 0:\n",
    "        hasil_pred = 'NETRAL'\n",
    "        total_net += 1\n",
    "    else:\n",
    "        hasil_pred = 'NEGATIF'\n",
    "        total_neg += 1\n",
    "    \n",
    "    all_data.append({\n",
    "        \"Username\": result.username,\n",
    "        \"Hasil\": result.cleaning,\n",
    "        \"Sentimen\": hasil_pred,        \n",
    "    })\n",
    "    \n",
    "total_sentimen[\"Total_Pos\"]= total_pos\n",
    "total_sentimen[\"Total_Net\"]= total_net\n",
    "total_sentimen[\"Total_Neg\"]= total_neg\n",
    "    \n"
   ]
  },
  {
   "cell_type": "code",
   "execution_count": 14,
   "metadata": {},
   "outputs": [
    {
     "name": "stdout",
     "output_type": "stream",
     "text": [
      "{'Total_Pos': 38, 'Total_Net': 2, 'Total_Neg': 60}\n"
     ]
    }
   ],
   "source": [
    "print(total_sentimen)"
   ]
  },
  {
   "cell_type": "code",
   "execution_count": 16,
   "metadata": {},
   "outputs": [],
   "source": [
    "for item in results:\n",
    "    print(item.cleaning)"
   ]
  }
 ],
 "metadata": {
  "kernelspec": {
   "display_name": "venv",
   "language": "python",
   "name": "python3"
  },
  "language_info": {
   "codemirror_mode": {
    "name": "ipython",
    "version": 3
   },
   "file_extension": ".py",
   "mimetype": "text/x-python",
   "name": "python",
   "nbconvert_exporter": "python",
   "pygments_lexer": "ipython3",
   "version": "3.9.13"
  },
  "orig_nbformat": 4
 },
 "nbformat": 4,
 "nbformat_minor": 2
}
